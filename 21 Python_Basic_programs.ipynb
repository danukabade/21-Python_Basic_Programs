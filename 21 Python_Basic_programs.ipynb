{
 "cells": [
  {
   "cell_type": "code",
   "execution_count": 1,
   "id": "8a451023-d4e8-47e0-8f93-e209b7a88acf",
   "metadata": {},
   "outputs": [
    {
     "name": "stdout",
     "output_type": "stream",
     "text": [
      "hello World\n"
     ]
    }
   ],
   "source": [
    "print(\"hello World\")"
   ]
  },
  {
   "cell_type": "code",
   "execution_count": 5,
   "id": "c0de732c-8ba3-488a-ae0f-8b874daf3865",
   "metadata": {},
   "outputs": [],
   "source": [
    "#prgm-2 \"Write a Python program to do arithmetical operations addition and division.\""
   ]
  },
  {
   "cell_type": "code",
   "execution_count": 9,
   "id": "9b299501-9183-4115-912e-d88ceb116ace",
   "metadata": {},
   "outputs": [
    {
     "name": "stdout",
     "output_type": "stream",
     "text": [
      "Enter the first number:  2.0\n",
      "Enter the second number:  3.0\n"
     ]
    },
    {
     "name": "stdout",
     "output_type": "stream",
     "text": [
      "sum: 2.0 + 3.0 = 5.0\n"
     ]
    }
   ],
   "source": [
    "#Addition\n",
    "num1 = float(input(\"Enter the first number: \"))\n",
    "num2 = float(input(\"Enter the second number: \"))\n",
    "result = num1 + num2\n",
    "print(f\"sum: {num1} + {num2} = {result}\")"
   ]
  },
  {
   "cell_type": "code",
   "execution_count": 23,
   "id": "f4e9e6e2-352d-411e-9a28-8ffac8a78cae",
   "metadata": {},
   "outputs": [
    {
     "name": "stdout",
     "output_type": "stream",
     "text": [
      "Enter the Dividend fo division:  25.0\n",
      "Enter the Divisor for division:  5.0\n"
     ]
    },
    {
     "name": "stdout",
     "output_type": "stream",
     "text": [
      "Division: 5.0\n"
     ]
    }
   ],
   "source": [
    "#Divison\n",
    "num3 = float(input(\"Enter the Dividend fo division: \"))\n",
    "num4 = float(input(\"Enter the Divisor for division: \"))\n",
    "if num4 == 0:\n",
    "    print(\"Error: Division by zero is not allowed.\")\n",
    "else:\n",
    "    div_result = num3 / num4\n",
    "    print(f\"Division: {div_result}\")"
   ]
  },
  {
   "cell_type": "code",
   "execution_count": 21,
   "id": "8f1d4876-a406-406e-88ba-c276169cf873",
   "metadata": {},
   "outputs": [],
   "source": [
    "# Prgm-3 \"Write a Python program to Find the area of a triangle.\""
   ]
  },
  {
   "cell_type": "code",
   "execution_count": 27,
   "id": "9e42a9da-99b0-4add-80ae-b9fb203f7f62",
   "metadata": {},
   "outputs": [
    {
     "name": "stdout",
     "output_type": "stream",
     "text": [
      "Enter the length of the base of the triangle:  34\n",
      "Enter the height of the triangle:  34\n"
     ]
    },
    {
     "name": "stdout",
     "output_type": "stream",
     "text": [
      "The area of triangle : 578.0\n"
     ]
    }
   ],
   "source": [
    "#Input the base and height from the user\n",
    "base = float(input(\"Enter the length of the base of the triangle: \"))\n",
    "height = float(input(\"Enter the height of the triangle: \"))\n",
    "#calculate the area of the triangle \n",
    "area = 0.5 * base * height\n",
    "#Display the result\n",
    "print(f\"The area of triangle : {area}\")\n"
   ]
  },
  {
   "cell_type": "code",
   "execution_count": 29,
   "id": "9819a388-1915-4fd1-93a0-c59f050bae18",
   "metadata": {},
   "outputs": [],
   "source": [
    "#Prgm-4 \"Write a Python program to swap two variables.\""
   ]
  },
  {
   "cell_type": "code",
   "execution_count": 31,
   "id": "1b3826d2-2bd9-4df7-b799-1918593672be",
   "metadata": {},
   "outputs": [
    {
     "name": "stdout",
     "output_type": "stream",
     "text": [
      "Enter the value of 1st variable (a):  2\n",
      "Enter the value of the 2nd variable (b):  3\n"
     ]
    },
    {
     "name": "stdout",
     "output_type": "stream",
     "text": [
      "Original values: a = 2 , b = 3 \n",
      "Swapped values: a = 3 ,b = 2 \n"
     ]
    }
   ],
   "source": [
    "#Input two variables\n",
    "a = input(\"Enter the value of 1st variable (a): \")\n",
    "b = input(\"Enter the value of the 2nd variable (b): \")\n",
    "#display the original values\n",
    "print(f\"Original values: a = {a} , b = {b} \")\n",
    "temp = a\n",
    "a = b\n",
    "b = temp\n",
    "#display the swapped values\n",
    "print(f\"Swapped values: a = {a} ,b = {b} \")\n"
   ]
  },
  {
   "cell_type": "code",
   "execution_count": 33,
   "id": "e1c5ce90-c2b3-423c-ade6-91190527bee3",
   "metadata": {},
   "outputs": [],
   "source": [
    "#prgm-5 \"Write a Python program to generate a random number.\""
   ]
  },
  {
   "cell_type": "code",
   "execution_count": 48,
   "id": "8e68f105-8df7-42d9-8178-fa1e101a66a2",
   "metadata": {},
   "outputs": [
    {
     "name": "stdout",
     "output_type": "stream",
     "text": [
      "Random number: 85\n"
     ]
    }
   ],
   "source": [
    "import random\n",
    "print(f\"Random number: {random.randint(1,100)}\")"
   ]
  },
  {
   "cell_type": "code",
   "execution_count": 50,
   "id": "35b3638d-be80-4639-877d-f0037d370d90",
   "metadata": {},
   "outputs": [],
   "source": [
    "#prgm-6 \"Write a Python program to convert kilometers to miles.\""
   ]
  },
  {
   "cell_type": "code",
   "execution_count": 62,
   "id": "8c8de5a2-274c-4a97-bb95-0be32a0b674f",
   "metadata": {},
   "outputs": [
    {
     "name": "stdout",
     "output_type": "stream",
     "text": [
      "Enter the distance in kilometers:  54\n"
     ]
    },
    {
     "name": "stdout",
     "output_type": "stream",
     "text": [
      "54.0 kilometers is equal to 33.554034 miles. \n"
     ]
    }
   ],
   "source": [
    "kilo = float(input(\"Enter the distance in kilometers: \"))\n",
    "#conversion factor : 1 kilometers = 0.621371 miles\n",
    "conversion_factor = 0.621371\n",
    "miles = kilo * conversion_factor\n",
    "print(f\"{kilo} kilometers is equal to {miles} miles. \")\n"
   ]
  },
  {
   "cell_type": "code",
   "execution_count": 64,
   "id": "b4ac713a-788a-4156-ad03-1ca6a3793b71",
   "metadata": {},
   "outputs": [],
   "source": [
    "# prgm-7 \" Write a Python program to convert Celsius to Fahrenheit.\""
   ]
  },
  {
   "cell_type": "code",
   "execution_count": 70,
   "id": "6cbde503-155a-411b-8567-f51cd76ede67",
   "metadata": {},
   "outputs": [
    {
     "name": "stdout",
     "output_type": "stream",
     "text": [
      "Enter the temperature in celsius: 23\n"
     ]
    },
    {
     "name": "stdout",
     "output_type": "stream",
     "text": [
      "23.0 degrees Celsius is equal to 73.4 degrees Fahrenheit.\n"
     ]
    }
   ],
   "source": [
    "celsius = float(input(\"Enter the temperature in celsius:\")) # Replace input() for testing\n",
    "fahrenheit = (celsius * 9/5) + 32\n",
    "print(f\"{celsius} degrees Celsius is equal to {fahrenheit} degrees Fahrenheit.\")\n"
   ]
  },
  {
   "cell_type": "code",
   "execution_count": 72,
   "id": "8d1faafd-98e6-4a1e-afb5-b95067d6dcaa",
   "metadata": {},
   "outputs": [],
   "source": [
    "#prgm-8 \"Write a Python program to display calendar.\""
   ]
  },
  {
   "cell_type": "code",
   "execution_count": 76,
   "id": "abf2d5c5-5aa9-454c-8dc1-ab3cc79ca3bf",
   "metadata": {},
   "outputs": [
    {
     "name": "stdout",
     "output_type": "stream",
     "text": [
      "Enter the year: 2024\n",
      "Enter the month: 11\n"
     ]
    },
    {
     "name": "stdout",
     "output_type": "stream",
     "text": [
      "   November 2024\n",
      "Mo Tu We Th Fr Sa Su\n",
      "             1  2  3\n",
      " 4  5  6  7  8  9 10\n",
      "11 12 13 14 15 16 17\n",
      "18 19 20 21 22 23 24\n",
      "25 26 27 28 29 30\n",
      "\n"
     ]
    }
   ],
   "source": [
    "import calendar\n",
    "year = int(input(\"Enter the year:\"))\n",
    "month = int(input(\"Enter the month:\"))\n",
    "cal = calendar.month(year,month)\n",
    "print(cal)\n",
    "           "
   ]
  },
  {
   "cell_type": "code",
   "execution_count": 78,
   "id": "4c7afff0-b4b6-4889-96fa-90945dc32f08",
   "metadata": {},
   "outputs": [],
   "source": [
    "#prgm-9 \"Write a Python program to solve quadratic equation.\""
   ]
  },
  {
   "cell_type": "code",
   "execution_count": 86,
   "id": "c68ae97f-fe34-48cd-831b-92f06347ee9b",
   "metadata": {},
   "outputs": [
    {
     "name": "stdout",
     "output_type": "stream",
     "text": [
      "Enter the coefficient a :  1\n",
      "Enter the coefficient b :  4\n",
      "Enter the coefficient c :  3\n"
     ]
    },
    {
     "name": "stdout",
     "output_type": "stream",
     "text": [
      "Root 1: -1.0\n",
      "Root 2: -3.0\n"
     ]
    }
   ],
   "source": [
    "import math\n",
    "a = float(input(\"Enter the coefficient a : \"))\n",
    "b = float(input(\"Enter the coefficient b : \"))\n",
    "c = float(input(\"Enter the coefficient c : \"))\n",
    "discriminant = b**2 - 4*a*c\n",
    "# Check if the discriminant is positive, negative, or zero\n",
    "if discriminant > 0 :\n",
    "    root1 = (-b + math.sqrt(discriminant)) / (2*a)\n",
    "    root2 = (-b - math.sqrt(discriminant)) / (2*a)\n",
    "    print(f\"Root 1: {root1}\")\n",
    "    print(f\"Root 2: {root2}\")\n",
    "elif discriminant == 0:\n",
    "    root = -b / (2*a)\n",
    "    print(f\"Root : {root}\")\n",
    "else:\n",
    "    real_part = -b / (2*a)\n",
    "    imaginary_part = math.sqrt(abs(discriminant)) / (2*a)\n",
    "    print(f\"Root 1: {real_part} + {imaginary_part}i\")\n",
    "    print(f\"Root 2: {real_part} - {imaginary_part}i\")\n",
    "          "
   ]
  },
  {
   "cell_type": "code",
   "execution_count": 88,
   "id": "342fbeda-8d8c-42c2-b821-b90e8e3d570c",
   "metadata": {},
   "outputs": [],
   "source": [
    "#prgm-10 \"Write a Python program to swap two variables without temp variable.\""
   ]
  },
  {
   "cell_type": "code",
   "execution_count": 90,
   "id": "4473586b-2473-4f65-b496-050f8cccc21f",
   "metadata": {},
   "outputs": [
    {
     "name": "stdout",
     "output_type": "stream",
     "text": [
      "After Swapping\n",
      "a =  10\n",
      "b =  5\n"
     ]
    }
   ],
   "source": [
    "a = 5\n",
    "b = 10\n",
    "a,b = b,a\n",
    "print(\"After Swapping\")\n",
    "print(\"a = \",a)\n",
    "print(\"b = \",b)\n"
   ]
  },
  {
   "cell_type": "code",
   "execution_count": 92,
   "id": "82c3ecce-dded-47ec-b12f-377c196294b0",
   "metadata": {},
   "outputs": [],
   "source": [
    "#prgm-11 \"Write a Python Program to Check if a Number is Positive, Negative or Zero.\""
   ]
  },
  {
   "cell_type": "code",
   "execution_count": 100,
   "id": "b3cc0b6f-8300-42fd-bb26-5b383f4bf249",
   "metadata": {},
   "outputs": [
    {
     "name": "stdout",
     "output_type": "stream",
     "text": [
      "Enter the number: 33\n"
     ]
    },
    {
     "name": "stdout",
     "output_type": "stream",
     "text": [
      "Positive number\n"
     ]
    }
   ],
   "source": [
    "num = float(input(\"Enter the number:\"))\n",
    "if num > 0:\n",
    "    print(\"Positive number\")\n",
    "elif num == 0:\n",
    "    print(\"zero\")\n",
    "else:\n",
    "    print(\"Negative number\")\n",
    "    "
   ]
  },
  {
   "cell_type": "code",
   "execution_count": 102,
   "id": "6a53310a-6905-41c6-a04d-a0c5b7184029",
   "metadata": {},
   "outputs": [],
   "source": [
    "#prgm-12 \"Write a Python Program to Check if a Number is Odd or Even.\""
   ]
  },
  {
   "cell_type": "code",
   "execution_count": 110,
   "id": "9b3002cd-9455-4edd-98c2-78022a709d2b",
   "metadata": {},
   "outputs": [
    {
     "name": "stdout",
     "output_type": "stream",
     "text": [
      "Enter the number: 50\n"
     ]
    },
    {
     "name": "stdout",
     "output_type": "stream",
     "text": [
      "Number is even\n"
     ]
    }
   ],
   "source": [
    "num = int(input(\"Enter the number:\"))\n",
    "if num%2 == 0:\n",
    "    print(\"Number is even\")\n",
    "else:\n",
    "    print(\"odd\")\n",
    "          "
   ]
  },
  {
   "cell_type": "code",
   "execution_count": 112,
   "id": "bc460b43-eaa6-4fb3-8f77-539686500a70",
   "metadata": {},
   "outputs": [],
   "source": [
    "#prgm-13 \"Write a Python Program to Check Leap Year.\""
   ]
  },
  {
   "cell_type": "code",
   "execution_count": 124,
   "id": "06e455ce-e8fa-476b-a23d-a31d65f1d5ec",
   "metadata": {},
   "outputs": [
    {
     "name": "stdout",
     "output_type": "stream",
     "text": [
      "Enter the year: 2022\n"
     ]
    },
    {
     "name": "stdout",
     "output_type": "stream",
     "text": [
      "2022 is not a leap year\n"
     ]
    }
   ],
   "source": [
    "year = int(input(\"Enter the year:\"))\n",
    "if (year % 400 == 0) and (year % 100 == 0):\n",
    "    print(\"{0} is a leap year\".format(year))\n",
    "elif (year % 4 == 0) and (year % 100 != 0):\n",
    "    print(\"{0} is a leap year\".format(year))\n",
    "else:\n",
    "    print(\"{0} is not a leap year\".format(year))\n",
    "          "
   ]
  },
  {
   "cell_type": "code",
   "execution_count": 2,
   "id": "d407d58d-a88e-439a-9dd8-1452eb24529d",
   "metadata": {},
   "outputs": [],
   "source": [
    "#prgm-14 \"Convert pdf to docx\""
   ]
  },
  {
   "cell_type": "code",
   "execution_count": 4,
   "id": "473b966e-7dcb-4ef3-b8a6-2078ced562ba",
   "metadata": {},
   "outputs": [
    {
     "name": "stderr",
     "output_type": "stream",
     "text": [
      "[INFO] Start to convert Mindshift Daneshwari Kabade.pdf\n",
      "[INFO] \u001b[1;36m[1/4] Opening document...\u001b[0m\n",
      "[INFO] \u001b[1;36m[2/4] Analyzing document...\u001b[0m\n",
      "[INFO] \u001b[1;36m[3/4] Parsing pages...\u001b[0m\n",
      "[INFO] (1/1) Page 1\n",
      "[INFO] \u001b[1;36m[4/4] Creating pages...\u001b[0m\n",
      "[INFO] (1/1) Page 1\n",
      "[INFO] Terminated in 0.20s.\n"
     ]
    }
   ],
   "source": [
    "from  pdf2docx import Converter\n",
    "pdf_file = 'Mindshift Daneshwari Kabade.pdf'\n",
    "docx_file = 'Mindshift Daneshwari Kabade.docx'\n",
    "cv = Converter(pdf_file)\n",
    "cv.convert(docx_file)\n",
    "cv.close()"
   ]
  },
  {
   "cell_type": "code",
   "execution_count": 7,
   "id": "7d20f66f-8656-47b4-86a6-f293a2b3abc3",
   "metadata": {},
   "outputs": [],
   "source": [
    "#prgm-15 \"Convert Image to Pencil sketch\""
   ]
  },
  {
   "cell_type": "code",
   "execution_count": 9,
   "id": "7588959a-f596-44b0-939b-c2ae45a4d083",
   "metadata": {},
   "outputs": [
    {
     "name": "stdout",
     "output_type": "stream",
     "text": [
      "Requirement already satisfied: opencv-python in /opt/anaconda3/lib/python3.12/site-packages (4.10.0.84)\n",
      "Requirement already satisfied: numpy>=1.21.2 in /opt/anaconda3/lib/python3.12/site-packages (from opencv-python) (1.26.4)\n",
      "Note: you may need to restart the kernel to use updated packages.\n"
     ]
    }
   ],
   "source": [
    "pip install opencv-python"
   ]
  },
  {
   "cell_type": "code",
   "execution_count": 11,
   "id": "d08e9273-0337-43ee-b879-abbf85ee9808",
   "metadata": {},
   "outputs": [],
   "source": [
    "import cv2\n",
    "image = cv2.imread(\"dan.jpg\")\n",
    "gray_image = cv2.cvtColor(image, cv2.COLOR_BGR2GRAY)\n",
    "inverted = 255-gray_image\n",
    "blur = cv2.GaussianBlur(inverted, (21,21),0)\n",
    "invertedblur = 255-blur\n",
    "sketch = cv2.divide(gray_image,invertedblur,scale=256.0)\n",
    "cv2.imwrite(\"sketch_image.png\",sketch)\n",
    "cv2.imshow(\"Image\",sketch)"
   ]
  },
  {
   "cell_type": "code",
   "execution_count": 14,
   "id": "e60c8d13-5ec8-402f-95da-8610cd02ed48",
   "metadata": {},
   "outputs": [],
   "source": [
    "#prgm-16 \"Write a Python Program to Check Prime Number.\""
   ]
  },
  {
   "cell_type": "code",
   "execution_count": 42,
   "id": "71a0c1e5-bca2-4713-a404-a9bd2c125724",
   "metadata": {},
   "outputs": [
    {
     "name": "stdout",
     "output_type": "stream",
     "text": [
      "Enter a number:  5\n"
     ]
    },
    {
     "name": "stdout",
     "output_type": "stream",
     "text": [
      "5,is a prime number\n"
     ]
    }
   ],
   "source": [
    "num = int(input(\"Enter a number: \"))\n",
    "flag = False\n",
    "if num == 1:\n",
    "    print(f\"{num}, is not a prime number\")\n",
    "elif num > 1:\n",
    "    for i in range(2, num):\n",
    "     if (num % i) == 0:\n",
    "        flag = True\n",
    "        break\n",
    "if flag:\n",
    "    print(f\"{num}, is not a prime number\")\n",
    "else:\n",
    "    print(f\"{num},is a prime number\")\n"
   ]
  },
  {
   "cell_type": "code",
   "execution_count": 2,
   "id": "e6e834b2-79c7-440f-841d-a0b75321999d",
   "metadata": {},
   "outputs": [],
   "source": [
    "#prgm-17 \"Write a Python Program to Print all Prime Numbers in an Interval of 1-10.\""
   ]
  },
  {
   "cell_type": "code",
   "execution_count": 6,
   "id": "7fa45df9-9cf3-4a7a-9b74-280e06e608e8",
   "metadata": {},
   "outputs": [
    {
     "name": "stdout",
     "output_type": "stream",
     "text": [
      "Prime numbers between 1 and 10 are:\n",
      "2\n",
      "3\n",
      "5\n",
      "7\n"
     ]
    }
   ],
   "source": [
    "lower = 1\n",
    "upper = 10\n",
    "print(\"Prime numbers between\",lower, \"and\",upper,\"are:\")\n",
    "for num in range(lower, upper+1):\n",
    "    if num > 1:\n",
    "        for i in range(2,num):\n",
    "            if (num % i) == 0:\n",
    "                break\n",
    "        else:\n",
    "            print(num)\n",
    "        "
   ]
  },
  {
   "cell_type": "code",
   "execution_count": 8,
   "id": "7a02d024-b92a-4788-8b9f-857127f0ef83",
   "metadata": {},
   "outputs": [],
   "source": [
    "#prgm-18 \"Write a Python Program to Find the Factorial of a Number.\""
   ]
  },
  {
   "cell_type": "code",
   "execution_count": 18,
   "id": "aa800762-b7c7-4648-ad0b-f0b5ea529774",
   "metadata": {},
   "outputs": [
    {
     "name": "stdout",
     "output_type": "stream",
     "text": [
      "Enter a number: 5\n"
     ]
    },
    {
     "name": "stdout",
     "output_type": "stream",
     "text": [
      "The factorial of 5 is 1\n",
      "The factorial of 5 is 2\n",
      "The factorial of 5 is 6\n",
      "The factorial of 5 is 24\n",
      "The factorial of 5 is 120\n"
     ]
    }
   ],
   "source": [
    "num = int(input(\"Enter a number:\"))\n",
    "factorial = 1\n",
    "if num < 0:\n",
    "    print(\"Factorial does not exist for negative numbers\")\n",
    "elif num == 0:\n",
    "    print(\"Factorial of 0 is 1\")\n",
    "else:\n",
    "    for i in range(1, num+1):\n",
    "        factorial = factorial*i\n",
    "        print(f\"The factorial of {num} is {factorial}\")"
   ]
  },
  {
   "cell_type": "code",
   "execution_count": 20,
   "id": "2bfa6570-f8bc-48ee-bb93-85549d36f79f",
   "metadata": {},
   "outputs": [],
   "source": [
    "#prgm-19 \"Write a Python Program to Display the multiplication Table.\""
   ]
  },
  {
   "cell_type": "code",
   "execution_count": 24,
   "id": "a4188ece-054a-46eb-bfe9-776caf65c5d4",
   "metadata": {},
   "outputs": [
    {
     "name": "stdout",
     "output_type": "stream",
     "text": [
      "Display multiplication table of:  2\n"
     ]
    },
    {
     "name": "stdout",
     "output_type": "stream",
     "text": [
      "2  X 1 = 2\n",
      "2  X 2 = 4\n",
      "2  X 3 = 6\n",
      "2  X 4 = 8\n",
      "2  X 5 = 10\n",
      "2  X 6 = 12\n",
      "2  X 7 = 14\n",
      "2  X 8 = 16\n",
      "2  X 9 = 18\n",
      "2  X 10 = 20\n"
     ]
    }
   ],
   "source": [
    "num = int(input(\"Display multiplication table of: \"))\n",
    "for i in range(1, 11):\n",
    "    print(f\"{num}  X {i} = {num*i}\")"
   ]
  },
  {
   "cell_type": "code",
   "execution_count": 27,
   "id": "58ad7cec-d796-41b5-9716-100ec55ecff6",
   "metadata": {},
   "outputs": [],
   "source": [
    "#prgm-20 \"Write a Python Program to Print the Fibonacci sequence.\""
   ]
  },
  {
   "cell_type": "code",
   "execution_count": 39,
   "id": "1ba5eb84-2ad2-4756-924f-aec9332d28da",
   "metadata": {},
   "outputs": [
    {
     "name": "stdout",
     "output_type": "stream",
     "text": [
      "Enter the terms: 5\n"
     ]
    },
    {
     "name": "stdout",
     "output_type": "stream",
     "text": [
      "Fibonacci sequence\n",
      "0\n",
      "1\n",
      "1\n",
      "2\n",
      "3\n"
     ]
    }
   ],
   "source": [
    "nterms = int(input(\"Enter the terms:\"))\n",
    "n1,n2 = 0,1\n",
    "count = 0\n",
    "if nterms <= 0:\n",
    "    print(\"Please enter a positive integer\")\n",
    "elif nterms == 1:\n",
    "    print(\"Fibonacci sequence upto\",nterms,\":\")\n",
    "    print(n1)\n",
    "else:\n",
    "    print(\"Fibonacci sequence\")\n",
    "    while count < nterms:\n",
    "        print(n1)\n",
    "        nth = n1 + n2\n",
    "        n1 = n2\n",
    "        n2 = nth\n",
    "        count += 1\n",
    "    "
   ]
  },
  {
   "cell_type": "code",
   "execution_count": 31,
   "id": "c81de723-d67c-4c27-8b93-ab6af1ba4c66",
   "metadata": {},
   "outputs": [],
   "source": [
    "#prgm-21 \"Write a Python Program to Check Armstrong Number?\""
   ]
  },
  {
   "cell_type": "code",
   "execution_count": 47,
   "id": "31669cb2-a493-4a4c-8948-772dd4d6a70b",
   "metadata": {},
   "outputs": [
    {
     "name": "stdout",
     "output_type": "stream",
     "text": [
      "Enter a number:  153\n"
     ]
    },
    {
     "name": "stdout",
     "output_type": "stream",
     "text": [
      "153 is an Armstrong number.\n"
     ]
    }
   ],
   "source": [
    "num = int(input(\"Enter a number: \"))\n",
    "# Calculate the number of digits in num\n",
    "num_str = str(num)\n",
    "num_digits = len(num_str)\n",
    "# Initialize variables\n",
    "sum_of_powers = 0\n",
    "temp_num = num\n",
    "# Calculate the sum of digits raised to the power of num_digits\n",
    "while temp_num > 0:\n",
    " digit = temp_num % 10\n",
    " sum_of_powers += digit ** num_digits\n",
    " temp_num //= 10\n",
    "# Check if it's an Armstrong number\n",
    "if sum_of_powers == num:\n",
    " print(f\"{num} is an Armstrong number.\")\n",
    "else:\n",
    " print(f\"{num} is not an Armstrong number.\")"
   ]
  },
  {
   "cell_type": "code",
   "execution_count": null,
   "id": "8541db2b-38f6-445a-b8c4-cec5b4b62246",
   "metadata": {},
   "outputs": [],
   "source": []
  }
 ],
 "metadata": {
  "kernelspec": {
   "display_name": "Python 3 (ipykernel)",
   "language": "python",
   "name": "python3"
  },
  "language_info": {
   "codemirror_mode": {
    "name": "ipython",
    "version": 3
   },
   "file_extension": ".py",
   "mimetype": "text/x-python",
   "name": "python",
   "nbconvert_exporter": "python",
   "pygments_lexer": "ipython3",
   "version": "3.12.4"
  }
 },
 "nbformat": 4,
 "nbformat_minor": 5
}
